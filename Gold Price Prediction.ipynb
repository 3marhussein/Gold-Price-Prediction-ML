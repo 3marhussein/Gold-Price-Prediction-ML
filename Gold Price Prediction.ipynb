{
 "cells": [
  {
   "cell_type": "markdown",
   "id": "4a9d3089",
   "metadata": {},
   "source": [
    "## Importing Libraries"
   ]
  },
  {
   "cell_type": "code",
   "execution_count": 66,
   "id": "53cd08d7",
   "metadata": {},
   "outputs": [],
   "source": [
    "import numpy as np\n",
    "import pandas as pd\n",
    "import matplotlib.pyplot as plt\n",
    "import seaborn as sns\n",
    "from sklearn.model_selection import train_test_split\n",
    "from sklearn.ensemble import RandomForestRegressor\n",
    "from sklearn import metrics"
   ]
  },
  {
   "cell_type": "markdown",
   "id": "1e90f6c1",
   "metadata": {},
   "source": [
    "## Data Collection and Processing"
   ]
  },
  {
   "cell_type": "code",
   "execution_count": 67,
   "id": "172c11c0",
   "metadata": {},
   "outputs": [],
   "source": [
    "# loading the csv data to pandas dataframe\n",
    "\n",
    "gold = pd.read_csv('gld_price_data.csv')"
   ]
  },
  {
   "cell_type": "code",
   "execution_count": 68,
   "id": "1da19388",
   "metadata": {},
   "outputs": [
    {
     "data": {
      "text/html": [
       "<div>\n",
       "<style scoped>\n",
       "    .dataframe tbody tr th:only-of-type {\n",
       "        vertical-align: middle;\n",
       "    }\n",
       "\n",
       "    .dataframe tbody tr th {\n",
       "        vertical-align: top;\n",
       "    }\n",
       "\n",
       "    .dataframe thead th {\n",
       "        text-align: right;\n",
       "    }\n",
       "</style>\n",
       "<table border=\"1\" class=\"dataframe\">\n",
       "  <thead>\n",
       "    <tr style=\"text-align: right;\">\n",
       "      <th></th>\n",
       "      <th>Date</th>\n",
       "      <th>SPX</th>\n",
       "      <th>GLD</th>\n",
       "      <th>USO</th>\n",
       "      <th>SLV</th>\n",
       "      <th>EUR/USD</th>\n",
       "    </tr>\n",
       "  </thead>\n",
       "  <tbody>\n",
       "    <tr>\n",
       "      <th>0</th>\n",
       "      <td>1/2/2008</td>\n",
       "      <td>1447.160034</td>\n",
       "      <td>84.860001</td>\n",
       "      <td>78.470001</td>\n",
       "      <td>15.180</td>\n",
       "      <td>1.471692</td>\n",
       "    </tr>\n",
       "    <tr>\n",
       "      <th>1</th>\n",
       "      <td>1/3/2008</td>\n",
       "      <td>1447.160034</td>\n",
       "      <td>85.570000</td>\n",
       "      <td>78.370003</td>\n",
       "      <td>15.285</td>\n",
       "      <td>1.474491</td>\n",
       "    </tr>\n",
       "    <tr>\n",
       "      <th>2</th>\n",
       "      <td>1/4/2008</td>\n",
       "      <td>1411.630005</td>\n",
       "      <td>85.129997</td>\n",
       "      <td>77.309998</td>\n",
       "      <td>15.167</td>\n",
       "      <td>1.475492</td>\n",
       "    </tr>\n",
       "    <tr>\n",
       "      <th>3</th>\n",
       "      <td>1/7/2008</td>\n",
       "      <td>1416.180054</td>\n",
       "      <td>84.769997</td>\n",
       "      <td>75.500000</td>\n",
       "      <td>15.053</td>\n",
       "      <td>1.468299</td>\n",
       "    </tr>\n",
       "    <tr>\n",
       "      <th>4</th>\n",
       "      <td>1/8/2008</td>\n",
       "      <td>1390.189941</td>\n",
       "      <td>86.779999</td>\n",
       "      <td>76.059998</td>\n",
       "      <td>15.590</td>\n",
       "      <td>1.557099</td>\n",
       "    </tr>\n",
       "  </tbody>\n",
       "</table>\n",
       "</div>"
      ],
      "text/plain": [
       "       Date          SPX        GLD        USO     SLV   EUR/USD\n",
       "0  1/2/2008  1447.160034  84.860001  78.470001  15.180  1.471692\n",
       "1  1/3/2008  1447.160034  85.570000  78.370003  15.285  1.474491\n",
       "2  1/4/2008  1411.630005  85.129997  77.309998  15.167  1.475492\n",
       "3  1/7/2008  1416.180054  84.769997  75.500000  15.053  1.468299\n",
       "4  1/8/2008  1390.189941  86.779999  76.059998  15.590  1.557099"
      ]
     },
     "execution_count": 68,
     "metadata": {},
     "output_type": "execute_result"
    }
   ],
   "source": [
    "# print first 5 rows in the dataframe\n",
    "\n",
    "gold.head()"
   ]
  },
  {
   "cell_type": "code",
   "execution_count": 69,
   "id": "db89fdff",
   "metadata": {},
   "outputs": [
    {
     "data": {
      "text/html": [
       "<div>\n",
       "<style scoped>\n",
       "    .dataframe tbody tr th:only-of-type {\n",
       "        vertical-align: middle;\n",
       "    }\n",
       "\n",
       "    .dataframe tbody tr th {\n",
       "        vertical-align: top;\n",
       "    }\n",
       "\n",
       "    .dataframe thead th {\n",
       "        text-align: right;\n",
       "    }\n",
       "</style>\n",
       "<table border=\"1\" class=\"dataframe\">\n",
       "  <thead>\n",
       "    <tr style=\"text-align: right;\">\n",
       "      <th></th>\n",
       "      <th>Date</th>\n",
       "      <th>SPX</th>\n",
       "      <th>GLD</th>\n",
       "      <th>USO</th>\n",
       "      <th>SLV</th>\n",
       "      <th>EUR/USD</th>\n",
       "    </tr>\n",
       "  </thead>\n",
       "  <tbody>\n",
       "    <tr>\n",
       "      <th>2285</th>\n",
       "      <td>5/8/2018</td>\n",
       "      <td>2671.919922</td>\n",
       "      <td>124.589996</td>\n",
       "      <td>14.0600</td>\n",
       "      <td>15.5100</td>\n",
       "      <td>1.186789</td>\n",
       "    </tr>\n",
       "    <tr>\n",
       "      <th>2286</th>\n",
       "      <td>5/9/2018</td>\n",
       "      <td>2697.790039</td>\n",
       "      <td>124.330002</td>\n",
       "      <td>14.3700</td>\n",
       "      <td>15.5300</td>\n",
       "      <td>1.184722</td>\n",
       "    </tr>\n",
       "    <tr>\n",
       "      <th>2287</th>\n",
       "      <td>5/10/2018</td>\n",
       "      <td>2723.070068</td>\n",
       "      <td>125.180000</td>\n",
       "      <td>14.4100</td>\n",
       "      <td>15.7400</td>\n",
       "      <td>1.191753</td>\n",
       "    </tr>\n",
       "    <tr>\n",
       "      <th>2288</th>\n",
       "      <td>5/14/2018</td>\n",
       "      <td>2730.129883</td>\n",
       "      <td>124.489998</td>\n",
       "      <td>14.3800</td>\n",
       "      <td>15.5600</td>\n",
       "      <td>1.193118</td>\n",
       "    </tr>\n",
       "    <tr>\n",
       "      <th>2289</th>\n",
       "      <td>5/16/2018</td>\n",
       "      <td>2725.780029</td>\n",
       "      <td>122.543800</td>\n",
       "      <td>14.4058</td>\n",
       "      <td>15.4542</td>\n",
       "      <td>1.182033</td>\n",
       "    </tr>\n",
       "  </tbody>\n",
       "</table>\n",
       "</div>"
      ],
      "text/plain": [
       "           Date          SPX         GLD      USO      SLV   EUR/USD\n",
       "2285   5/8/2018  2671.919922  124.589996  14.0600  15.5100  1.186789\n",
       "2286   5/9/2018  2697.790039  124.330002  14.3700  15.5300  1.184722\n",
       "2287  5/10/2018  2723.070068  125.180000  14.4100  15.7400  1.191753\n",
       "2288  5/14/2018  2730.129883  124.489998  14.3800  15.5600  1.193118\n",
       "2289  5/16/2018  2725.780029  122.543800  14.4058  15.4542  1.182033"
      ]
     },
     "execution_count": 69,
     "metadata": {},
     "output_type": "execute_result"
    }
   ],
   "source": [
    "# print the last 5 rows in the datafrome\n",
    "\n",
    "gold.tail()"
   ]
  },
  {
   "cell_type": "code",
   "execution_count": 70,
   "id": "bbb00ade",
   "metadata": {},
   "outputs": [
    {
     "data": {
      "text/plain": [
       "(2290, 6)"
      ]
     },
     "execution_count": 70,
     "metadata": {},
     "output_type": "execute_result"
    }
   ],
   "source": [
    "# number of rows and columns\n",
    "\n",
    "gold.shape"
   ]
  },
  {
   "cell_type": "code",
   "execution_count": 71,
   "id": "bf0fe1b0",
   "metadata": {},
   "outputs": [
    {
     "name": "stdout",
     "output_type": "stream",
     "text": [
      "<class 'pandas.core.frame.DataFrame'>\n",
      "RangeIndex: 2290 entries, 0 to 2289\n",
      "Data columns (total 6 columns):\n",
      " #   Column   Non-Null Count  Dtype  \n",
      "---  ------   --------------  -----  \n",
      " 0   Date     2290 non-null   object \n",
      " 1   SPX      2290 non-null   float64\n",
      " 2   GLD      2290 non-null   float64\n",
      " 3   USO      2290 non-null   float64\n",
      " 4   SLV      2290 non-null   float64\n",
      " 5   EUR/USD  2290 non-null   float64\n",
      "dtypes: float64(5), object(1)\n",
      "memory usage: 107.5+ KB\n"
     ]
    }
   ],
   "source": [
    "# Exploring the data\n",
    "\n",
    "gold.info()"
   ]
  },
  {
   "cell_type": "code",
   "execution_count": 72,
   "id": "58d71e05",
   "metadata": {},
   "outputs": [
    {
     "data": {
      "text/plain": [
       "Date       0\n",
       "SPX        0\n",
       "GLD        0\n",
       "USO        0\n",
       "SLV        0\n",
       "EUR/USD    0\n",
       "dtype: int64"
      ]
     },
     "execution_count": 72,
     "metadata": {},
     "output_type": "execute_result"
    }
   ],
   "source": [
    "# checking the missing data\n",
    "\n",
    "gold.isnull().sum()"
   ]
  },
  {
   "cell_type": "code",
   "execution_count": 73,
   "id": "c92d7f0e",
   "metadata": {},
   "outputs": [
    {
     "data": {
      "text/html": [
       "<div>\n",
       "<style scoped>\n",
       "    .dataframe tbody tr th:only-of-type {\n",
       "        vertical-align: middle;\n",
       "    }\n",
       "\n",
       "    .dataframe tbody tr th {\n",
       "        vertical-align: top;\n",
       "    }\n",
       "\n",
       "    .dataframe thead th {\n",
       "        text-align: right;\n",
       "    }\n",
       "</style>\n",
       "<table border=\"1\" class=\"dataframe\">\n",
       "  <thead>\n",
       "    <tr style=\"text-align: right;\">\n",
       "      <th></th>\n",
       "      <th>SPX</th>\n",
       "      <th>GLD</th>\n",
       "      <th>USO</th>\n",
       "      <th>SLV</th>\n",
       "      <th>EUR/USD</th>\n",
       "    </tr>\n",
       "  </thead>\n",
       "  <tbody>\n",
       "    <tr>\n",
       "      <th>count</th>\n",
       "      <td>2290.000000</td>\n",
       "      <td>2290.000000</td>\n",
       "      <td>2290.000000</td>\n",
       "      <td>2290.000000</td>\n",
       "      <td>2290.000000</td>\n",
       "    </tr>\n",
       "    <tr>\n",
       "      <th>mean</th>\n",
       "      <td>1654.315776</td>\n",
       "      <td>122.732875</td>\n",
       "      <td>31.842221</td>\n",
       "      <td>20.084997</td>\n",
       "      <td>1.283653</td>\n",
       "    </tr>\n",
       "    <tr>\n",
       "      <th>std</th>\n",
       "      <td>519.111540</td>\n",
       "      <td>23.283346</td>\n",
       "      <td>19.523517</td>\n",
       "      <td>7.092566</td>\n",
       "      <td>0.131547</td>\n",
       "    </tr>\n",
       "    <tr>\n",
       "      <th>min</th>\n",
       "      <td>676.530029</td>\n",
       "      <td>70.000000</td>\n",
       "      <td>7.960000</td>\n",
       "      <td>8.850000</td>\n",
       "      <td>1.039047</td>\n",
       "    </tr>\n",
       "    <tr>\n",
       "      <th>25%</th>\n",
       "      <td>1239.874969</td>\n",
       "      <td>109.725000</td>\n",
       "      <td>14.380000</td>\n",
       "      <td>15.570000</td>\n",
       "      <td>1.171313</td>\n",
       "    </tr>\n",
       "    <tr>\n",
       "      <th>50%</th>\n",
       "      <td>1551.434998</td>\n",
       "      <td>120.580002</td>\n",
       "      <td>33.869999</td>\n",
       "      <td>17.268500</td>\n",
       "      <td>1.303297</td>\n",
       "    </tr>\n",
       "    <tr>\n",
       "      <th>75%</th>\n",
       "      <td>2073.010070</td>\n",
       "      <td>132.840004</td>\n",
       "      <td>37.827501</td>\n",
       "      <td>22.882500</td>\n",
       "      <td>1.369971</td>\n",
       "    </tr>\n",
       "    <tr>\n",
       "      <th>max</th>\n",
       "      <td>2872.870117</td>\n",
       "      <td>184.589996</td>\n",
       "      <td>117.480003</td>\n",
       "      <td>47.259998</td>\n",
       "      <td>1.598798</td>\n",
       "    </tr>\n",
       "  </tbody>\n",
       "</table>\n",
       "</div>"
      ],
      "text/plain": [
       "               SPX          GLD          USO          SLV      EUR/USD\n",
       "count  2290.000000  2290.000000  2290.000000  2290.000000  2290.000000\n",
       "mean   1654.315776   122.732875    31.842221    20.084997     1.283653\n",
       "std     519.111540    23.283346    19.523517     7.092566     0.131547\n",
       "min     676.530029    70.000000     7.960000     8.850000     1.039047\n",
       "25%    1239.874969   109.725000    14.380000    15.570000     1.171313\n",
       "50%    1551.434998   120.580002    33.869999    17.268500     1.303297\n",
       "75%    2073.010070   132.840004    37.827501    22.882500     1.369971\n",
       "max    2872.870117   184.589996   117.480003    47.259998     1.598798"
      ]
     },
     "execution_count": 73,
     "metadata": {},
     "output_type": "execute_result"
    }
   ],
   "source": [
    "# getting the statisticals of the data\n",
    "\n",
    "gold.describe()"
   ]
  },
  {
   "cell_type": "markdown",
   "id": "34dbaa71",
   "metadata": {},
   "source": [
    "### Correlation:\n",
    "   ### 1. Positive Correlation.\n",
    "   ### 2. Negative Correlation."
   ]
  },
  {
   "cell_type": "code",
   "execution_count": 74,
   "id": "b3298daa",
   "metadata": {},
   "outputs": [],
   "source": [
    "correlation = gold.corr()"
   ]
  },
  {
   "cell_type": "code",
   "execution_count": 75,
   "id": "f43d7178",
   "metadata": {},
   "outputs": [
    {
     "data": {
      "text/plain": [
       "<AxesSubplot:>"
      ]
     },
     "execution_count": 75,
     "metadata": {},
     "output_type": "execute_result"
    },
    {
     "data": {
      "image/png": "[encoded data removed]",
      "text/plain": [
       "<Figure size 576x576 with 2 Axes>"
      ]
     },
     "metadata": {
      "needs_background": "light"
     },
     "output_type": "display_data"
    }
   ],
   "source": [
    "# creating a heatmap to undeerstand correlation\n",
    "\n",
    "plt.figure(figsize = (8,8))\n",
    "sns.heatmap(correlation, cbar=True, square=True, fmt='.1f' , annot=True, annot_kws={'size':8})"
   ]
  },
  {
   "cell_type": "code",
   "execution_count": 76,
   "id": "89ab4f10",
   "metadata": {},
   "outputs": [
    {
     "name": "stdout",
     "output_type": "stream",
     "text": [
      "SPX        0.049345\n",
      "GLD        1.000000\n",
      "USO       -0.186360\n",
      "SLV        0.866632\n",
      "EUR/USD   -0.024375\n",
      "Name: GLD, dtype: float64\n"
     ]
    }
   ],
   "source": [
    "# correlation values of GLD\n",
    "print(correlation['GLD'])"
   ]
  },
  {
   "cell_type": "code",
   "execution_count": 77,
   "id": "38861caf",
   "metadata": {},
   "outputs": [
    {
     "name": "stderr",
     "output_type": "stream",
     "text": [
      "C:\\Users\\Omar Hussein\\anaconda3\\lib\\site-packages\\seaborn\\distributions.py:2619: FutureWarning: `distplot` is a deprecated function and will be removed in a future version. Please adapt your code to use either `displot` (a figure-level function with similar flexibility) or `histplot` (an axes-level function for histograms).\n",
      "  warnings.warn(msg, FutureWarning)\n"
     ]
    },
    {
     "data": {
      "text/plain": [
       "<AxesSubplot:xlabel='GLD', ylabel='Density'>"
      ]
     },
     "execution_count": 77,
     "metadata": {},
     "output_type": "execute_result"
    },
    {
     "data": {
      "image/png": "[encoded data removed]",
      "text/plain": [
       "<Figure size 432x288 with 1 Axes>"
      ]
     },
     "metadata": {
      "needs_background": "light"
     },
     "output_type": "display_data"
    }
   ],
   "source": [
    "# checking the distrebution of the gold price\n",
    "\n",
    "sns.distplot(gold['GLD'])"
   ]
  },
  {
   "cell_type": "markdown",
   "id": "98a424ae",
   "metadata": {},
   "source": [
    "## Spliting the Features and Target"
   ]
  },
  {
   "cell_type": "code",
   "execution_count": 78,
   "id": "7c284440",
   "metadata": {},
   "outputs": [],
   "source": [
    "X = gold.drop(['Date', 'GLD'], axis=1)\n",
    "Y = gold['GLD']"
   ]
  },
  {
   "cell_type": "code",
   "execution_count": 79,
   "id": "f420085a",
   "metadata": {},
   "outputs": [
    {
     "name": "stdout",
     "output_type": "stream",
     "text": [
      "              SPX        USO      SLV   EUR/USD\n",
      "0     1447.160034  78.470001  15.1800  1.471692\n",
      "1     1447.160034  78.370003  15.2850  1.474491\n",
      "2     1411.630005  77.309998  15.1670  1.475492\n",
      "3     1416.180054  75.500000  15.0530  1.468299\n",
      "4     1390.189941  76.059998  15.5900  1.557099\n",
      "...           ...        ...      ...       ...\n",
      "2285  2671.919922  14.060000  15.5100  1.186789\n",
      "2286  2697.790039  14.370000  15.5300  1.184722\n",
      "2287  2723.070068  14.410000  15.7400  1.191753\n",
      "2288  2730.129883  14.380000  15.5600  1.193118\n",
      "2289  2725.780029  14.405800  15.4542  1.182033\n",
      "\n",
      "[2290 rows x 4 columns]\n"
     ]
    }
   ],
   "source": [
    "print(X)"
   ]
  },
  {
   "cell_type": "code",
   "execution_count": 80,
   "id": "88b2b081",
   "metadata": {},
   "outputs": [
    {
     "name": "stdout",
     "output_type": "stream",
     "text": [
      "0        84.860001\n",
      "1        85.570000\n",
      "2        85.129997\n",
      "3        84.769997\n",
      "4        86.779999\n",
      "           ...    \n",
      "2285    124.589996\n",
      "2286    124.330002\n",
      "2287    125.180000\n",
      "2288    124.489998\n",
      "2289    122.543800\n",
      "Name: GLD, Length: 2290, dtype: float64\n"
     ]
    }
   ],
   "source": [
    "print(Y)"
   ]
  },
  {
   "cell_type": "markdown",
   "id": "749d8c34",
   "metadata": {},
   "source": [
    "## Spliting into Training data and Test data"
   ]
  },
  {
   "cell_type": "code",
   "execution_count": 81,
   "id": "304d2464",
   "metadata": {},
   "outputs": [],
   "source": [
    "X_train, X_test, Y_train, Y_test = train_test_split(X, Y ,test_size= 0.2, random_state= 2)"
   ]
  },
  {
   "cell_type": "markdown",
   "id": "92ee9826",
   "metadata": {},
   "source": [
    "## Model Training: Random forest Algorithm"
   ]
  },
  {
   "cell_type": "code",
   "execution_count": 82,
   "id": "057d8575",
   "metadata": {},
   "outputs": [],
   "source": [
    "regressor = RandomForestRegressor(n_estimators=100)"
   ]
  },
  {
   "cell_type": "code",
   "execution_count": 83,
   "id": "88303872",
   "metadata": {},
   "outputs": [
    {
     "data": {
      "text/plain": [
       "RandomForestRegressor()"
      ]
     },
     "execution_count": 83,
     "metadata": {},
     "output_type": "execute_result"
    }
   ],
   "source": [
    "# training the model\n",
    "regressor.fit(X_train,Y_train)"
   ]
  },
  {
   "cell_type": "markdown",
   "id": "e4933ad0",
   "metadata": {},
   "source": [
    "### Model Evaluation"
   ]
  },
  {
   "cell_type": "code",
   "execution_count": 84,
   "id": "d65025ea",
   "metadata": {},
   "outputs": [],
   "source": [
    "# Prediction on Test data\n",
    "\n",
    "test_data_prediction =regressor.predict(X_test)\n"
   ]
  },
  {
   "cell_type": "code",
   "execution_count": 85,
   "id": "bac7caf1",
   "metadata": {},
   "outputs": [
    {
     "name": "stdout",
     "output_type": "stream",
     "text": [
      "[168.49989945  81.87999989 115.86270059 127.8412008  120.72720144\n",
      " 154.7913977  149.99889829 125.98690021 117.48829866 126.03500075\n",
      " 116.73850107 171.49450073 141.52549794 167.7574992  115.19479979\n",
      " 117.74740052 139.69040251 169.96060095 159.62490344 159.09009968\n",
      " 154.89810021 125.23000015 176.06849908 156.95900424 125.21000003\n",
      "  93.76219964  77.6341     120.74069976 119.11529959 167.40330062\n",
      "  88.06370065 125.23349992  90.95810069 117.67330049 121.17309931\n",
      " 136.7170008  115.49990108 114.9784006  148.19219982 107.12740069\n",
      " 104.79780257  87.32159841 126.67000055 117.90250042 153.5916985\n",
      " 119.6081003  108.39689987 108.086298    93.19020048 127.34049727\n",
      "  75.07130023 113.72539932 121.40420034 111.14169887 118.87199907\n",
      " 120.94979892 159.97629999 166.40050152 146.95479659  85.76309847\n",
      "  94.22080042  86.76929883  90.62360009 118.91310095 126.43040047\n",
      " 127.53260022 169.92989955 122.39119936 117.69159886  98.38060036\n",
      " 168.27870106 143.23659858 132.71160212 121.3488021  121.29559963\n",
      " 119.75040074 114.43840153 118.34580042 107.14180099 127.85930137\n",
      " 113.98659952 107.35519991 116.83100083 119.68179908  88.66540066\n",
      "  88.30069863 146.75060149 127.31609945 113.49240016 110.32999831\n",
      " 108.20379915  77.10629913 169.20990202 114.11429899 121.5931989\n",
      " 127.94570147 154.88759844  91.62109933 135.91800132 159.03690256\n",
      " 125.83450017 125.42640064 130.57440084 114.83590106 119.89309988\n",
      "  92.11030002 110.25519859 167.64369944 157.50409837 114.12729941\n",
      " 106.5778013   79.18880002 113.25610048 125.72570057 107.70129949\n",
      " 119.75130116 155.47090273 159.28619878 120.06289975 135.97670269\n",
      " 101.32339965 117.48139786 119.30780049 112.77570053 102.73479944\n",
      " 159.70109787  98.88350035 149.19499975 125.34640112 169.4824993\n",
      " 125.70629902 127.40919714 127.44920125 113.65599932 113.24370047\n",
      " 123.24469909 102.26639895  89.4411     124.46309959 101.49819891\n",
      " 107.00909927 113.85850058 117.55420067  99.26539951 121.59760025\n",
      " 163.58749881  87.56299902 106.8660996  117.1020011  127.74440103\n",
      " 124.16590071  80.75719902 120.42950065 156.87929825  87.93659965\n",
      " 110.41169945 119.02989924 172.15089847 102.97859903 105.51080043\n",
      " 122.45870045 157.2700978   87.46179815  93.10040026 112.65710037\n",
      " 177.55199863 114.55439958 119.30180029  94.6388007  125.99320009\n",
      " 166.1143011  114.78030065 116.74550141  88.42949872 148.78560073\n",
      " 120.44729944  89.58819996 111.88869991 117.49990037 118.88560117\n",
      "  87.84259926  94.23489996 117.26130049 118.5548017  120.21160042\n",
      " 126.9558978  121.94489955 150.32920028 165.21030033 118.59919965\n",
      " 120.53420165 149.48470055 118.20139918 172.43799926 105.28629954\n",
      " 104.86380112 148.79620071 113.84250067 124.85370109 147.56559954\n",
      " 119.61610103 115.43000077 112.26210018 113.2816023  141.51300102\n",
      " 118.03399756 102.89860035 115.77500095 103.80340187  99.0357004\n",
      " 117.4304008   90.4964003   91.34440044 153.34849932 102.7271997\n",
      " 154.8120007  114.29540171 139.45600165  90.22679759 115.49219944\n",
      " 113.50170001 122.91560054 121.76990028 165.24320142  92.84649954\n",
      " 135.03900054 121.41049915 120.53710075 104.76810024 141.58360294\n",
      " 121.55859924 116.63430058 113.64560031 127.10939795 122.89849922\n",
      " 125.79179946 121.24660015  86.78999938 132.58510113 145.05620208\n",
      "  92.72239953 156.43779927 159.37670278 126.31419907 164.41900009\n",
      " 108.87659961 109.67050064 103.70399881  94.34690081 127.93080275\n",
      " 106.97260037 159.27039998 121.76230024 131.93770045 130.59510092\n",
      " 161.02090042  90.19339814 175.57110219 127.70500024 126.93889841\n",
      "  86.38339941 124.54639916 150.20339748  89.64770024 107.00509958\n",
      " 108.89159991  83.34879907 136.06199978 154.45310284 139.96430358\n",
      "  74.15240001 151.68710079 126.44269942 126.8057999  127.50029894\n",
      " 108.34719958 156.08050058 114.62220086 116.98140127 125.41849955\n",
      " 153.84630091 121.47599989 156.33919909  92.89580022 125.54470135\n",
      " 125.89460035  87.91210053  92.34619928 126.35919973 128.52750359\n",
      " 113.12010061 117.73259778 120.73060033 127.11589792 119.91130111\n",
      " 136.37130053  93.8604993  120.09680053 113.479101    94.36549948\n",
      " 108.81639999  86.3299989  108.36589947  89.78049959  92.33800037\n",
      " 131.45760301 162.60330085  89.28080014 119.6129009  133.35130183\n",
      " 124.06460029 128.24520226 102.0465985   88.95999864 131.65430043\n",
      " 120.21080035 108.36580041 167.34670095 115.26330036  86.5545989\n",
      " 118.7935005   91.22279956 161.55350044 116.39160045 121.67280041\n",
      " 160.00109796 120.16909948 112.59639961 108.41589872 126.83679993\n",
      "  76.18890051 103.05899994 127.90970273 121.83269933  92.58470002\n",
      " 131.71520037 118.21650098 116.02109973 154.68130261 159.45690096\n",
      " 110.00429973 155.92819745 119.39310115 160.37980142 118.55090058\n",
      " 159.4853997  115.06039932 116.6320004  148.03169865 114.8921006\n",
      " 125.8929989  166.25840012 117.92960039 125.00839953 153.19380343\n",
      " 153.46230252 132.29740048 114.7913006  121.28680184 125.21470068\n",
      "  89.70940021 122.89749999 154.88980192 111.70140037 106.76130012\n",
      " 161.65690125 118.5610995  165.68089991 134.02260194 115.11769972\n",
      " 152.91239863 168.57680067 114.64370035 113.9181014  158.86459862\n",
      "  85.44259855 127.06650089 127.83460106 128.84720031 124.07140058\n",
      " 123.99920087  90.62610086 153.11769974  97.03249973 137.81509999\n",
      "  89.38289907 107.34210009 115.11520046 112.80740074 124.13129918\n",
      "  91.36259881 125.38660085 162.60899964 119.94869885 165.177001\n",
      " 126.92459781 112.35630031 127.65689948  95.07269894  91.19359977\n",
      " 103.11169919 120.73559991  83.18889935 126.09410016 160.33220437\n",
      " 117.20470111 118.3237001  120.23709981 122.72409959 120.06940116\n",
      " 121.42290011 118.20770067 106.98289992 148.24699943 126.13059888\n",
      " 115.69200066  74.29980006 127.82960085 153.92260078 122.5417999\n",
      " 125.61370091  88.91039997 103.86899871 124.90350049 120.31940044\n",
      "  73.45990072 151.6695999  121.22960043 104.46689975  86.53289762\n",
      " 114.86909893 172.2362984  119.9580004  161.12649799 113.17049932\n",
      " 121.24700056 118.61250111  95.8510998  119.07750002 126.19660044\n",
      " 118.53649951  96.01300026 153.98270134 122.1309999  147.56089966\n",
      " 159.44170201 113.47970032 122.52609938 148.73179772 126.93220017\n",
      " 166.02160049 135.26570009 119.79429933 167.61169957 108.13429906\n",
      " 121.8507982  139.6407012  106.16339917]\n"
     ]
    }
   ],
   "source": [
    "print(test_data_prediction)"
   ]
  },
  {
   "cell_type": "code",
   "execution_count": 86,
   "id": "e2a3119e",
   "metadata": {},
   "outputs": [
    {
     "name": "stdout",
     "output_type": "stream",
     "text": [
      "R squared error:  0.9893439659523726\n"
     ]
    }
   ],
   "source": [
    "# R square error\n",
    "\n",
    "eeror_score = metrics.r2_score(Y_test, test_data_prediction)\n",
    "print(\"R squared error: \", eeror_score)"
   ]
  },
  {
   "cell_type": "markdown",
   "id": "c3758442",
   "metadata": {},
   "source": [
    "### Compare Actual Values and Predicted Values in a Plot"
   ]
  },
  {
   "cell_type": "code",
   "execution_count": 87,
   "id": "999deaba",
   "metadata": {},
   "outputs": [],
   "source": [
    "Y_test = list(Y_test)"
   ]
  },
  {
   "cell_type": "code",
   "execution_count": 92,
   "id": "2769a23c",
   "metadata": {},
   "outputs": [
    {
     "data": {
      "image/png": "[encoded data removed]",
      "text/plain": [
       "<Figure size 432x288 with 1 Axes>"
      ]
     },
     "metadata": {
      "needs_background": "light"
     },
     "output_type": "display_data"
    }
   ],
   "source": [
    "plt.plot(Y_test, color='blue', label= 'Actual Value')\n",
    "plt.plot(test_data_prediction, color='green', label ='Predicted Value')\n",
    "plt.title('Actual Price vs Predicted Price')\n",
    "plt.xlabel('Number of values')\n",
    "plt.ylabel('GLD Price')\n",
    "plt.legend()\n",
    "plt.show()"
   ]
  }
 ],
 "metadata": {
  "kernelspec": {
   "display_name": "Python 3 (ipykernel)",
   "language": "python",
   "name": "python3"
  },
  "language_info": {
   "codemirror_mode": {
    "name": "ipython",
    "version": 3
   },
   "file_extension": ".py",
   "mimetype": "text/x-python",
   "name": "python",
   "nbconvert_exporter": "python",
   "pygments_lexer": "ipython3",
   "version": "3.9.7"
  }
 },
 "nbformat": 4,
 "nbformat_minor": 5
}
